{
  "cells": [
    {
      "cell_type": "markdown",
      "metadata": {
        "id": "Bfp7rFczY1Df"
      },
      "source": [
        "#### ***1.*** Write Programs to demonstrate knowledge of Python Basics."
      ]
    },
    {
      "cell_type": "markdown",
      "metadata": {
        "id": "Tj1xqEgFYvwq"
      },
      "source": [
        "##### ***1.1*** Write a program to demonstrate variable creation in python"
      ]
    },
    {
      "cell_type": "code",
      "execution_count": null,
      "metadata": {
        "id": "-jI0GjmBbHyL"
      },
      "outputs": [],
      "source": []
    },
    {
      "cell_type": "markdown",
      "metadata": {
        "id": "GtBibk80Y8qX"
      },
      "source": [
        "##### ***1.2*** Write a program to demonstrate command input in python"
      ]
    },
    {
      "cell_type": "code",
      "execution_count": null,
      "metadata": {
        "id": "d2KDzsMKY_gB"
      },
      "outputs": [],
      "source": []
    },
    {
      "cell_type": "markdown",
      "metadata": {
        "id": "aHd2JeYqY_xR"
      },
      "source": [
        "##### ***1.3*** Write a program to demonstrate numbers and stings in python"
      ]
    },
    {
      "cell_type": "code",
      "execution_count": null,
      "metadata": {
        "id": "GlJHYn6DZDAJ"
      },
      "outputs": [],
      "source": []
    },
    {
      "cell_type": "markdown",
      "metadata": {
        "id": "wF4U196XZDTQ"
      },
      "source": [
        "##### ***1.4*** Write a program to demonstrate operators in python"
      ]
    },
    {
      "cell_type": "code",
      "execution_count": null,
      "metadata": {
        "id": "B0RtfOtaZGkB"
      },
      "outputs": [],
      "source": []
    },
    {
      "cell_type": "markdown",
      "metadata": {
        "id": "EZgPUs3bZHLZ"
      },
      "source": [
        "##### ***1.5*** Write a program to demonstrate decision making in python"
      ]
    },
    {
      "cell_type": "code",
      "execution_count": null,
      "metadata": {
        "id": "P0c9yR-zZKLp"
      },
      "outputs": [],
      "source": []
    },
    {
      "cell_type": "markdown",
      "metadata": {
        "id": "jJYOKBOfZL5x"
      },
      "source": [
        "##### ***1.6*** Write a program to demonstrate control structures in python"
      ]
    },
    {
      "cell_type": "code",
      "execution_count": null,
      "metadata": {
        "id": "Xmjm_meYZN_A"
      },
      "outputs": [],
      "source": []
    },
    {
      "cell_type": "markdown",
      "metadata": {
        "id": "F6ENS3-eZOQB"
      },
      "source": [
        "##### ***1.7*** Write a program to demonstrate lists and dictionary in python"
      ]
    },
    {
      "cell_type": "code",
      "execution_count": null,
      "metadata": {
        "id": "Mdp6HdpMZRyx"
      },
      "outputs": [],
      "source": []
    },
    {
      "cell_type": "markdown",
      "metadata": {
        "id": "SPBIBfFFZSMJ"
      },
      "source": [
        "#### ***2.*** Write a program to solve Tower of Hanoi problem in python."
      ]
    },
    {
      "cell_type": "code",
      "execution_count": null,
      "metadata": {
        "id": "EAe_42fLZWtA"
      },
      "outputs": [],
      "source": []
    }
  ],
  "metadata": {
    "colab": {
      "collapsed_sections": [],
      "name": "AI Practical File.ipynb",
      "provenance": []
    },
    "kernelspec": {
      "display_name": "Python 3.10.4 64-bit",
      "language": "python",
      "name": "python3"
    },
    "language_info": {
      "name": "python",
      "version": "3.10.4"
    },
    "vscode": {
      "interpreter": {
        "hash": "4f946df053fbf2b937619d3c5458e7af74262f9a954d8797ba0b27400bcafe06"
      }
    }
  },
  "nbformat": 4,
  "nbformat_minor": 0
}
